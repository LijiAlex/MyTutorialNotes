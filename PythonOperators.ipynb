{
 "cells": [
  {
   "cell_type": "markdown",
   "id": "e3a8f213",
   "metadata": {},
   "source": [
    "# Operators in Python"
   ]
  },
  {
   "cell_type": "markdown",
   "id": "23e9b53a",
   "metadata": {},
   "source": [
    "Operators are used to perform operations on variables and values.\n",
    "\n",
    "Few basic Python operators:\n",
    "\n",
    "* Arithmetic operators\n",
    "* Assignment operators\n",
    "* Comparison operators\n",
    "* Logical operators"
   ]
  },
  {
   "cell_type": "markdown",
   "id": "e018d339",
   "metadata": {},
   "source": [
    "### Python Arithmetic Operators\n",
    "Arithmetic operators are used with numeric values to perform common mathematical operations."
   ]
  },
  {
   "cell_type": "markdown",
   "id": "95aadef6",
   "metadata": {},
   "source": [
    "* Addition\n",
    "* Subtraction\n",
    "* Multiplication\n",
    "* Division\n",
    "* Modulus\n",
    "* Exponentiation\n",
    "* Floor division"
   ]
  },
  {
   "cell_type": "code",
   "execution_count": 72,
   "id": "03104631",
   "metadata": {},
   "outputs": [
    {
     "data": {
      "text/plain": [
       "7"
      ]
     },
     "execution_count": 72,
     "metadata": {},
     "output_type": "execute_result"
    }
   ],
   "source": [
    "3 + 4"
   ]
  },
  {
   "cell_type": "code",
   "execution_count": 73,
   "id": "a3d12614",
   "metadata": {},
   "outputs": [
    {
     "data": {
      "text/plain": [
       "97"
      ]
     },
     "execution_count": 73,
     "metadata": {},
     "output_type": "execute_result"
    }
   ],
   "source": [
    "-3 + 100"
   ]
  },
  {
   "cell_type": "code",
   "execution_count": 74,
   "id": "f5f0cfd9",
   "metadata": {},
   "outputs": [
    {
     "data": {
      "text/plain": [
       "-103"
      ]
     },
     "execution_count": 74,
     "metadata": {},
     "output_type": "execute_result"
    }
   ],
   "source": [
    "-3 - 100"
   ]
  },
  {
   "cell_type": "code",
   "execution_count": 75,
   "id": "a6c8fddb",
   "metadata": {},
   "outputs": [
    {
     "data": {
      "text/plain": [
       "12"
      ]
     },
     "execution_count": 75,
     "metadata": {},
     "output_type": "execute_result"
    }
   ],
   "source": [
    "x = 3\n",
    "y = 4\n",
    "x * y"
   ]
  },
  {
   "cell_type": "code",
   "execution_count": 76,
   "id": "bd749968",
   "metadata": {},
   "outputs": [
    {
     "data": {
      "text/plain": [
       "300"
      ]
     },
     "execution_count": 76,
     "metadata": {},
     "output_type": "execute_result"
    }
   ],
   "source": [
    "100 * x"
   ]
  },
  {
   "cell_type": "code",
   "execution_count": 77,
   "id": "8739c10a",
   "metadata": {},
   "outputs": [
    {
     "data": {
      "text/plain": [
       "3.0"
      ]
     },
     "execution_count": 77,
     "metadata": {},
     "output_type": "execute_result"
    }
   ],
   "source": [
    "12 / 4"
   ]
  },
  {
   "cell_type": "code",
   "execution_count": 78,
   "id": "dd64c2cb",
   "metadata": {},
   "outputs": [
    {
     "data": {
      "text/plain": [
       "3"
      ]
     },
     "execution_count": 78,
     "metadata": {},
     "output_type": "execute_result"
    }
   ],
   "source": [
    "12 // 4"
   ]
  },
  {
   "cell_type": "code",
   "execution_count": 79,
   "id": "54cd972b",
   "metadata": {},
   "outputs": [
    {
     "data": {
      "text/plain": [
       "0"
      ]
     },
     "execution_count": 79,
     "metadata": {},
     "output_type": "execute_result"
    }
   ],
   "source": [
    "12 % 4"
   ]
  },
  {
   "cell_type": "code",
   "execution_count": 80,
   "id": "cda6f011",
   "metadata": {},
   "outputs": [
    {
     "data": {
      "text/plain": [
       "3"
      ]
     },
     "execution_count": 80,
     "metadata": {},
     "output_type": "execute_result"
    }
   ],
   "source": [
    "13 // 4"
   ]
  },
  {
   "cell_type": "code",
   "execution_count": 81,
   "id": "d4dccb7e",
   "metadata": {},
   "outputs": [
    {
     "data": {
      "text/plain": [
       "3.25"
      ]
     },
     "execution_count": 81,
     "metadata": {},
     "output_type": "execute_result"
    }
   ],
   "source": [
    "13 / 4"
   ]
  },
  {
   "cell_type": "code",
   "execution_count": 82,
   "id": "bbd92393",
   "metadata": {},
   "outputs": [
    {
     "data": {
      "text/plain": [
       "1"
      ]
     },
     "execution_count": 82,
     "metadata": {},
     "output_type": "execute_result"
    }
   ],
   "source": [
    "13 % 4"
   ]
  },
  {
   "cell_type": "code",
   "execution_count": 83,
   "id": "757aef7e",
   "metadata": {},
   "outputs": [
    {
     "data": {
      "text/plain": [
       "9"
      ]
     },
     "execution_count": 83,
     "metadata": {},
     "output_type": "execute_result"
    }
   ],
   "source": [
    "3 ** 2"
   ]
  },
  {
   "cell_type": "code",
   "execution_count": 85,
   "id": "639e42ff",
   "metadata": {},
   "outputs": [
    {
     "data": {
      "text/plain": [
       "'hellohellohellohellohellohellohellohellohellohellohellohellohellohellohellohellohellohellohellohellohellohellohellohellohellohellohellohellohellohellohellohellohellohellohellohellohellohellohellohellohellohellohellohellohellohellohellohellohellohellohellohellohellohellohellohellohellohellohellohellohellohellohellohellohellohellohellohellohellohellohellohellohellohellohellohellohellohellohellohellohellohellohellohellohellohellohellohellohellohellohellohellohellohellohellohellohellohellohellohello'"
      ]
     },
     "execution_count": 85,
     "metadata": {},
     "output_type": "execute_result"
    }
   ],
   "source": [
    "\"hello\" * 100"
   ]
  },
  {
   "cell_type": "code",
   "execution_count": 86,
   "id": "612bf580",
   "metadata": {},
   "outputs": [
    {
     "data": {
      "text/plain": [
       "'helloPython'"
      ]
     },
     "execution_count": 86,
     "metadata": {},
     "output_type": "execute_result"
    }
   ],
   "source": [
    "\"hello\" + \"Python\""
   ]
  },
  {
   "cell_type": "markdown",
   "id": "33778a13",
   "metadata": {},
   "source": [
    "### Python Assignment Operators\n",
    "Assignment operators are used to assign values to variables."
   ]
  },
  {
   "cell_type": "code",
   "execution_count": 87,
   "id": "921c13cb",
   "metadata": {},
   "outputs": [
    {
     "data": {
      "text/plain": [
       "1"
      ]
     },
     "execution_count": 87,
     "metadata": {},
     "output_type": "execute_result"
    }
   ],
   "source": [
    "num = 1\n",
    "num"
   ]
  },
  {
   "cell_type": "code",
   "execution_count": 88,
   "id": "e3072da9",
   "metadata": {},
   "outputs": [
    {
     "data": {
      "text/plain": [
       "2"
      ]
     },
     "execution_count": 88,
     "metadata": {},
     "output_type": "execute_result"
    }
   ],
   "source": [
    "num += 1   # num = num+1\n",
    "num"
   ]
  },
  {
   "cell_type": "code",
   "execution_count": 89,
   "id": "bc6e1c70",
   "metadata": {},
   "outputs": [
    {
     "data": {
      "text/plain": [
       "-98"
      ]
     },
     "execution_count": 89,
     "metadata": {},
     "output_type": "execute_result"
    }
   ],
   "source": [
    "num -= 100\n",
    "num"
   ]
  },
  {
   "cell_type": "code",
   "execution_count": 90,
   "id": "7bddcfdd",
   "metadata": {},
   "outputs": [
    {
     "data": {
      "text/plain": [
       "-1176"
      ]
     },
     "execution_count": 90,
     "metadata": {},
     "output_type": "execute_result"
    }
   ],
   "source": [
    "num *= 12\n",
    "num"
   ]
  },
  {
   "cell_type": "markdown",
   "id": "4bf30a61",
   "metadata": {},
   "source": [
    "### Python Comparison Operators\n",
    "Comparison operators are used to compare two values"
   ]
  },
  {
   "cell_type": "code",
   "execution_count": 91,
   "id": "61187eff",
   "metadata": {},
   "outputs": [
    {
     "data": {
      "text/plain": [
       "False"
      ]
     },
     "execution_count": 91,
     "metadata": {},
     "output_type": "execute_result"
    }
   ],
   "source": [
    "num == 100"
   ]
  },
  {
   "cell_type": "code",
   "execution_count": 92,
   "id": "42c6d210",
   "metadata": {},
   "outputs": [
    {
     "data": {
      "text/plain": [
       "True"
      ]
     },
     "execution_count": 92,
     "metadata": {},
     "output_type": "execute_result"
    }
   ],
   "source": [
    "num != 100"
   ]
  },
  {
   "cell_type": "code",
   "execution_count": 93,
   "id": "36aed587",
   "metadata": {},
   "outputs": [
    {
     "data": {
      "text/plain": [
       "True"
      ]
     },
     "execution_count": 93,
     "metadata": {},
     "output_type": "execute_result"
    }
   ],
   "source": [
    "num < 100"
   ]
  },
  {
   "cell_type": "code",
   "execution_count": 94,
   "id": "5cd9dbf2",
   "metadata": {},
   "outputs": [
    {
     "data": {
      "text/plain": [
       "False"
      ]
     },
     "execution_count": 94,
     "metadata": {},
     "output_type": "execute_result"
    }
   ],
   "source": [
    "num > 100"
   ]
  },
  {
   "cell_type": "code",
   "execution_count": 95,
   "id": "733f830a",
   "metadata": {},
   "outputs": [],
   "source": [
    "num2 = 0"
   ]
  },
  {
   "cell_type": "code",
   "execution_count": 98,
   "id": "4af6c222",
   "metadata": {},
   "outputs": [],
   "source": [
    "num = 0"
   ]
  },
  {
   "cell_type": "code",
   "execution_count": 99,
   "id": "a1f29b4f",
   "metadata": {},
   "outputs": [
    {
     "data": {
      "text/plain": [
       "True"
      ]
     },
     "execution_count": 99,
     "metadata": {},
     "output_type": "execute_result"
    }
   ],
   "source": [
    "num <= num2"
   ]
  },
  {
   "cell_type": "code",
   "execution_count": 100,
   "id": "f8223967",
   "metadata": {},
   "outputs": [
    {
     "data": {
      "text/plain": [
       "True"
      ]
     },
     "execution_count": 100,
     "metadata": {},
     "output_type": "execute_result"
    }
   ],
   "source": [
    "num >= num2"
   ]
  },
  {
   "cell_type": "markdown",
   "id": "a028d6a2",
   "metadata": {},
   "source": [
    "### Python Logical Operators\n",
    "Logical operators are used to combine conditional statements"
   ]
  },
  {
   "cell_type": "code",
   "execution_count": 101,
   "id": "b08b291a",
   "metadata": {},
   "outputs": [
    {
     "data": {
      "text/plain": [
       "False"
      ]
     },
     "execution_count": 101,
     "metadata": {},
     "output_type": "execute_result"
    }
   ],
   "source": [
    "num2 == 200"
   ]
  },
  {
   "cell_type": "code",
   "execution_count": 102,
   "id": "85756b3f",
   "metadata": {},
   "outputs": [
    {
     "data": {
      "text/plain": [
       "True"
      ]
     },
     "execution_count": 102,
     "metadata": {},
     "output_type": "execute_result"
    }
   ],
   "source": [
    "num<100"
   ]
  },
  {
   "cell_type": "code",
   "execution_count": 103,
   "id": "edc1b959",
   "metadata": {},
   "outputs": [
    {
     "data": {
      "text/plain": [
       "False"
      ]
     },
     "execution_count": 103,
     "metadata": {},
     "output_type": "execute_result"
    }
   ],
   "source": [
    "num2 == 200 and num<100"
   ]
  },
  {
   "cell_type": "code",
   "execution_count": 104,
   "id": "2b074ba7",
   "metadata": {},
   "outputs": [
    {
     "data": {
      "text/plain": [
       "True"
      ]
     },
     "execution_count": 104,
     "metadata": {},
     "output_type": "execute_result"
    }
   ],
   "source": [
    "num2 == 200 or num<100"
   ]
  },
  {
   "cell_type": "code",
   "execution_count": 105,
   "id": "c9ee541a",
   "metadata": {},
   "outputs": [
    {
     "data": {
      "text/plain": [
       "True"
      ]
     },
     "execution_count": 105,
     "metadata": {},
     "output_type": "execute_result"
    }
   ],
   "source": [
    "not num2 == 200"
   ]
  },
  {
   "cell_type": "markdown",
   "id": "5bb38e3b",
   "metadata": {},
   "source": [
    "### Topics Covered\n",
    "* Arithmetic operators\n",
    "* Assignment operators\n",
    "* Comparison operators\n",
    "* Logical operators"
   ]
  },
  {
   "cell_type": "code",
   "execution_count": null,
   "id": "59c1f850",
   "metadata": {},
   "outputs": [],
   "source": []
  }
 ],
 "metadata": {
  "kernelspec": {
   "display_name": "Python 3",
   "language": "python",
   "name": "python3"
  },
  "language_info": {
   "codemirror_mode": {
    "name": "ipython",
    "version": 3
   },
   "file_extension": ".py",
   "mimetype": "text/x-python",
   "name": "python",
   "nbconvert_exporter": "python",
   "pygments_lexer": "ipython3",
   "version": "3.8.8"
  }
 },
 "nbformat": 4,
 "nbformat_minor": 5
}
